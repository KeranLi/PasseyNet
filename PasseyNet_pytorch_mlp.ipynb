{
 "cells": [
  {
   "cell_type": "code",
   "execution_count": 2,
   "id": "7eb34e14-49ee-47c9-b10c-e5e55b4b32b4",
   "metadata": {
    "tags": []
   },
   "outputs": [],
   "source": [
    "import pandas as pd\n",
    "import numpy as np\n",
    "import torch\n",
    "import torch.nn as nn\n",
    "import torch.nn.functional as F\n",
    "import matplotlib.pyplot as plt"
   ]
  },
  {
   "cell_type": "code",
   "execution_count": 3,
   "id": "a0dab87b-45ee-47d9-aa5e-1f767de59f43",
   "metadata": {
    "tags": []
   },
   "outputs": [
    {
     "data": {
      "text/html": [
       "<div>\n",
       "<style scoped>\n",
       "    .dataframe tbody tr th:only-of-type {\n",
       "        vertical-align: middle;\n",
       "    }\n",
       "\n",
       "    .dataframe tbody tr th {\n",
       "        vertical-align: top;\n",
       "    }\n",
       "\n",
       "    .dataframe thead th {\n",
       "        text-align: right;\n",
       "    }\n",
       "</style>\n",
       "<table border=\"1\" class=\"dataframe\">\n",
       "  <thead>\n",
       "    <tr style=\"text-align: right;\">\n",
       "      <th></th>\n",
       "      <th>井名</th>\n",
       "      <th>Depth</th>\n",
       "      <th>GR</th>\n",
       "      <th>AC</th>\n",
       "      <th>CNL</th>\n",
       "      <th>DEN</th>\n",
       "      <th>RT</th>\n",
       "      <th>RXO</th>\n",
       "      <th>TOC</th>\n",
       "    </tr>\n",
       "  </thead>\n",
       "  <tbody>\n",
       "    <tr>\n",
       "      <th>0</th>\n",
       "      <td>龙会4</td>\n",
       "      <td>4384.250</td>\n",
       "      <td>59.898</td>\n",
       "      <td>51.739</td>\n",
       "      <td>2.986</td>\n",
       "      <td>2.730</td>\n",
       "      <td>NaN</td>\n",
       "      <td>NaN</td>\n",
       "      <td>0.095</td>\n",
       "    </tr>\n",
       "    <tr>\n",
       "      <th>1</th>\n",
       "      <td>龙会4</td>\n",
       "      <td>4379.500</td>\n",
       "      <td>60.681</td>\n",
       "      <td>51.564</td>\n",
       "      <td>2.656</td>\n",
       "      <td>2.723</td>\n",
       "      <td>NaN</td>\n",
       "      <td>NaN</td>\n",
       "      <td>0.143</td>\n",
       "    </tr>\n",
       "    <tr>\n",
       "      <th>2</th>\n",
       "      <td>龙会4</td>\n",
       "      <td>4386.875</td>\n",
       "      <td>124.560</td>\n",
       "      <td>53.859</td>\n",
       "      <td>3.956</td>\n",
       "      <td>2.625</td>\n",
       "      <td>NaN</td>\n",
       "      <td>NaN</td>\n",
       "      <td>0.143</td>\n",
       "    </tr>\n",
       "    <tr>\n",
       "      <th>3</th>\n",
       "      <td>峰探1</td>\n",
       "      <td>4584.500</td>\n",
       "      <td>40.030</td>\n",
       "      <td>50.546</td>\n",
       "      <td>6.603</td>\n",
       "      <td>2.654</td>\n",
       "      <td>1109.175</td>\n",
       "      <td>951.854</td>\n",
       "      <td>0.150</td>\n",
       "    </tr>\n",
       "    <tr>\n",
       "      <th>4</th>\n",
       "      <td>龙会4</td>\n",
       "      <td>4378.125</td>\n",
       "      <td>63.343</td>\n",
       "      <td>57.818</td>\n",
       "      <td>4.362</td>\n",
       "      <td>2.694</td>\n",
       "      <td>NaN</td>\n",
       "      <td>NaN</td>\n",
       "      <td>0.190</td>\n",
       "    </tr>\n",
       "  </tbody>\n",
       "</table>\n",
       "</div>"
      ],
      "text/plain": [
       "    井名     Depth       GR      AC    CNL    DEN        RT      RXO    TOC\n",
       "0  龙会4  4384.250   59.898  51.739  2.986  2.730       NaN      NaN  0.095\n",
       "1  龙会4  4379.500   60.681  51.564  2.656  2.723       NaN      NaN  0.143\n",
       "2  龙会4  4386.875  124.560  53.859  3.956  2.625       NaN      NaN  0.143\n",
       "3  峰探1  4584.500   40.030  50.546  6.603  2.654  1109.175  951.854  0.150\n",
       "4  龙会4  4378.125   63.343  57.818  4.362  2.694       NaN      NaN  0.190"
      ]
     },
     "execution_count": 3,
     "metadata": {},
     "output_type": "execute_result"
    }
   ],
   "source": [
    "#Loading training set into dataframe\n",
    "df = pd.read_excel('./data/gang_toc_train.xlsx')\n",
    "df.head()"
   ]
  },
  {
   "cell_type": "code",
   "execution_count": 4,
   "id": "7229f8ca",
   "metadata": {},
   "outputs": [],
   "source": [
    "df = df.drop(columns='井名')\n",
    "df = df.drop(columns='Depth')"
   ]
  },
  {
   "cell_type": "code",
   "execution_count": 5,
   "id": "45b94cd6",
   "metadata": {},
   "outputs": [
    {
     "data": {
      "text/plain": [
       "((236,), (236, 6))"
      ]
     },
     "execution_count": 5,
     "metadata": {},
     "output_type": "execute_result"
    }
   ],
   "source": [
    "#This is an example, taking TOC as label to predict\n",
    "label = df['TOC']\n",
    "train = df.drop('TOC', axis=1) # we don't need it in this project\n",
    "label.shape, train.shape"
   ]
  },
  {
   "cell_type": "code",
   "execution_count": 7,
   "id": "7de3e52b-c81e-4158-85fd-22df0d1edb92",
   "metadata": {
    "tags": []
   },
   "outputs": [],
   "source": [
    "#Function to min-max normalize\n",
    "def normalize(df, cols):\n",
    "    \"\"\"\n",
    "    @param df pandas DataFrame\n",
    "    @param cols a list of columns to encode\n",
    "    @return a DataFrame with normalized specified features\n",
    "    \"\"\"\n",
    "    result = df.copy() # do not touch the original df\n",
    "    for feature_name in cols:\n",
    "        max_value = df[feature_name].max()\n",
    "        min_value = df[feature_name].min()\n",
    "        if max_value > min_value:\n",
    "            result[feature_name] = (df[feature_name] - min_value) / (max_value - min_value)\n",
    "    return result"
   ]
  },
  {
   "cell_type": "code",
   "execution_count": 5,
   "id": "cba56068-6779-492c-8e6d-433086081a50",
   "metadata": {
    "tags": []
   },
   "outputs": [
    {
     "data": {
      "text/html": [
       "<div>\n",
       "<style scoped>\n",
       "    .dataframe tbody tr th:only-of-type {\n",
       "        vertical-align: middle;\n",
       "    }\n",
       "\n",
       "    .dataframe tbody tr th {\n",
       "        vertical-align: top;\n",
       "    }\n",
       "\n",
       "    .dataframe thead th {\n",
       "        text-align: right;\n",
       "    }\n",
       "</style>\n",
       "<table border=\"1\" class=\"dataframe\">\n",
       "  <thead>\n",
       "    <tr style=\"text-align: right;\">\n",
       "      <th></th>\n",
       "      <th>GR</th>\n",
       "      <th>AC</th>\n",
       "      <th>CNL</th>\n",
       "      <th>DEN</th>\n",
       "      <th>RT</th>\n",
       "      <th>RXO</th>\n",
       "      <th>TOC</th>\n",
       "    </tr>\n",
       "  </thead>\n",
       "  <tbody>\n",
       "    <tr>\n",
       "      <th>0</th>\n",
       "      <td>0.153128</td>\n",
       "      <td>0.100947</td>\n",
       "      <td>0.116017</td>\n",
       "      <td>0.917275</td>\n",
       "      <td>NaN</td>\n",
       "      <td>NaN</td>\n",
       "      <td>0.000000</td>\n",
       "    </tr>\n",
       "    <tr>\n",
       "      <th>1</th>\n",
       "      <td>0.155955</td>\n",
       "      <td>0.096731</td>\n",
       "      <td>0.103722</td>\n",
       "      <td>0.900243</td>\n",
       "      <td>NaN</td>\n",
       "      <td>NaN</td>\n",
       "      <td>0.008980</td>\n",
       "    </tr>\n",
       "    <tr>\n",
       "      <th>2</th>\n",
       "      <td>0.386578</td>\n",
       "      <td>0.152010</td>\n",
       "      <td>0.152155</td>\n",
       "      <td>0.661800</td>\n",
       "      <td>NaN</td>\n",
       "      <td>NaN</td>\n",
       "      <td>0.008980</td>\n",
       "    </tr>\n",
       "    <tr>\n",
       "      <th>3</th>\n",
       "      <td>0.081398</td>\n",
       "      <td>0.072211</td>\n",
       "      <td>0.250773</td>\n",
       "      <td>0.732360</td>\n",
       "      <td>0.101778</td>\n",
       "      <td>0.079420</td>\n",
       "      <td>0.010290</td>\n",
       "    </tr>\n",
       "    <tr>\n",
       "      <th>4</th>\n",
       "      <td>0.165566</td>\n",
       "      <td>0.247369</td>\n",
       "      <td>0.167281</td>\n",
       "      <td>0.829684</td>\n",
       "      <td>NaN</td>\n",
       "      <td>NaN</td>\n",
       "      <td>0.017774</td>\n",
       "    </tr>\n",
       "    <tr>\n",
       "      <th>...</th>\n",
       "      <td>...</td>\n",
       "      <td>...</td>\n",
       "      <td>...</td>\n",
       "      <td>...</td>\n",
       "      <td>...</td>\n",
       "      <td>...</td>\n",
       "      <td>...</td>\n",
       "    </tr>\n",
       "    <tr>\n",
       "      <th>231</th>\n",
       "      <td>0.496177</td>\n",
       "      <td>0.523111</td>\n",
       "      <td>0.401997</td>\n",
       "      <td>0.347932</td>\n",
       "      <td>0.002923</td>\n",
       "      <td>0.002404</td>\n",
       "      <td>0.970065</td>\n",
       "    </tr>\n",
       "    <tr>\n",
       "      <th>232</th>\n",
       "      <td>0.437357</td>\n",
       "      <td>0.616687</td>\n",
       "      <td>0.670057</td>\n",
       "      <td>0.333333</td>\n",
       "      <td>NaN</td>\n",
       "      <td>NaN</td>\n",
       "      <td>0.971936</td>\n",
       "    </tr>\n",
       "    <tr>\n",
       "      <th>233</th>\n",
       "      <td>0.344395</td>\n",
       "      <td>0.744033</td>\n",
       "      <td>0.767594</td>\n",
       "      <td>0.119221</td>\n",
       "      <td>0.000899</td>\n",
       "      <td>0.000494</td>\n",
       "      <td>0.975678</td>\n",
       "    </tr>\n",
       "    <tr>\n",
       "      <th>234</th>\n",
       "      <td>0.216550</td>\n",
       "      <td>0.104873</td>\n",
       "      <td>0.187847</td>\n",
       "      <td>0.822384</td>\n",
       "      <td>0.005154</td>\n",
       "      <td>0.005038</td>\n",
       "      <td>0.975678</td>\n",
       "    </tr>\n",
       "    <tr>\n",
       "      <th>235</th>\n",
       "      <td>0.315520</td>\n",
       "      <td>0.632416</td>\n",
       "      <td>0.822175</td>\n",
       "      <td>0.009732</td>\n",
       "      <td>0.000499</td>\n",
       "      <td>0.000194</td>\n",
       "      <td>1.000000</td>\n",
       "    </tr>\n",
       "  </tbody>\n",
       "</table>\n",
       "<p>236 rows × 7 columns</p>\n",
       "</div>"
      ],
      "text/plain": [
       "           GR        AC       CNL       DEN        RT       RXO       TOC\n",
       "0    0.153128  0.100947  0.116017  0.917275       NaN       NaN  0.000000\n",
       "1    0.155955  0.096731  0.103722  0.900243       NaN       NaN  0.008980\n",
       "2    0.386578  0.152010  0.152155  0.661800       NaN       NaN  0.008980\n",
       "3    0.081398  0.072211  0.250773  0.732360  0.101778  0.079420  0.010290\n",
       "4    0.165566  0.247369  0.167281  0.829684       NaN       NaN  0.017774\n",
       "..        ...       ...       ...       ...       ...       ...       ...\n",
       "231  0.496177  0.523111  0.401997  0.347932  0.002923  0.002404  0.970065\n",
       "232  0.437357  0.616687  0.670057  0.333333       NaN       NaN  0.971936\n",
       "233  0.344395  0.744033  0.767594  0.119221  0.000899  0.000494  0.975678\n",
       "234  0.216550  0.104873  0.187847  0.822384  0.005154  0.005038  0.975678\n",
       "235  0.315520  0.632416  0.822175  0.009732  0.000499  0.000194  1.000000\n",
       "\n",
       "[236 rows x 7 columns]"
      ]
     },
     "execution_count": 5,
     "metadata": {},
     "output_type": "execute_result"
    }
   ],
   "source": [
    "#Normalizing dataset\n",
    "new_df = normalize(df,df.columns)\n",
    "new_df"
   ]
  },
  {
   "cell_type": "code",
   "execution_count": 6,
   "id": "e80eed98-f774-4632-9bfd-7da68d47d994",
   "metadata": {
    "tags": []
   },
   "outputs": [
    {
     "data": {
      "text/plain": [
       "((236,), (236, 6))"
      ]
     },
     "execution_count": 6,
     "metadata": {},
     "output_type": "execute_result"
    }
   ],
   "source": [
    "#This is an example, taking TOC as label to predict\n",
    "label = new_df['TOC']\n",
    "train = new_df.drop('TOC', axis=1) # we don't need it in this project\n",
    "label.shape, train.shape"
   ]
  },
  {
   "cell_type": "code",
   "execution_count": 7,
   "id": "2065e924-5158-48e4-88c2-177475cadae5",
   "metadata": {
    "tags": []
   },
   "outputs": [
    {
     "data": {
      "text/plain": [
       "True"
      ]
     },
     "execution_count": 7,
     "metadata": {},
     "output_type": "execute_result"
    }
   ],
   "source": [
    "label.isnull().values.any()\n",
    "train.isnull().values.any()"
   ]
  },
  {
   "cell_type": "code",
   "execution_count": 8,
   "id": "ff7d4656-eb84-49ff-8693-b471ddfd8ccc",
   "metadata": {
    "tags": []
   },
   "outputs": [],
   "source": [
    "#Test Nan and fill with mean\n",
    "for column in list(train.columns[train.isnull().sum() > 0]):\n",
    "    mean_val = train[column].mean()\n",
    "    train[column].fillna(mean_val, inplace=True)"
   ]
  },
  {
   "cell_type": "code",
   "execution_count": 9,
   "id": "b87bfd6b-6409-4897-9837-832a63abddcd",
   "metadata": {
    "tags": []
   },
   "outputs": [
    {
     "data": {
      "text/plain": [
       "6"
      ]
     },
     "execution_count": 9,
     "metadata": {},
     "output_type": "execute_result"
    }
   ],
   "source": [
    "from sklearn.model_selection import StratifiedKFold\n",
    "\n",
    "kfold = StratifiedKFold(n_splits=6,shuffle=True,random_state=42)\n",
    "kfold.get_n_splits(train)"
   ]
  },
  {
   "cell_type": "code",
   "execution_count": 10,
   "id": "5516439b-836c-4fc6-8764-e2e38ab75597",
   "metadata": {
    "tags": []
   },
   "outputs": [],
   "source": [
    "train = np.array(train)\n",
    "label = np.array(label)"
   ]
  },
  {
   "cell_type": "code",
   "execution_count": 11,
   "id": "6298a7e4-69f1-4b70-ab4d-95faf37ff799",
   "metadata": {
    "tags": []
   },
   "outputs": [],
   "source": [
    "train = torch.tensor(train, dtype=torch.float32)\n",
    "label = torch.tensor(label, dtype=torch.float32)"
   ]
  },
  {
   "cell_type": "code",
   "execution_count": 12,
   "id": "8f1dbdb8-33fa-4d6c-8852-ae9ac4047f51",
   "metadata": {
    "tags": []
   },
   "outputs": [
    {
     "data": {
      "text/plain": [
       "(torch.Size([236]), torch.Size([236, 6]))"
      ]
     },
     "execution_count": 12,
     "metadata": {},
     "output_type": "execute_result"
    }
   ],
   "source": [
    "label.shape, train.shape"
   ]
  },
  {
   "cell_type": "code",
   "execution_count": 13,
   "id": "37867f50-f9e6-4d88-aeba-bc82581b43dc",
   "metadata": {
    "tags": []
   },
   "outputs": [
    {
     "name": "stdout",
     "output_type": "stream",
     "text": [
      "Using cuda device\n"
     ]
    }
   ],
   "source": [
    "# Get cpu, gpu or mps device for training.\n",
    "device = (\n",
    "    \"cuda\"\n",
    "    if torch.cuda.is_available()\n",
    "    else \"mps\"\n",
    "    if torch.backends.mps.is_available()\n",
    "    else \"cpu\"\n",
    ")\n",
    "print(f\"Using {device} device\")"
   ]
  },
  {
   "cell_type": "code",
   "execution_count": 20,
   "id": "63b318e2-6a0c-40ed-ad92-db866ec53336",
   "metadata": {},
   "outputs": [],
   "source": [
    "class PasseyNet_mlp(nn.Module):\n",
    "    def __init__(self, input_size):\n",
    "        super(PasseyNet_mlp, self).__init__()\n",
    "        self.fc0 = nn.Linear(6, 236)  # 236X236\n",
    "        self.fc1 = nn.Linear(236, 64)  # 2X64\n",
    "        self.fc2 = nn.Linear(64, 6)  # 282X4\n",
    "        self.fc3 = nn.Linear(6, 1)  # 282X1\n",
    "        \n",
    "    def forward(self, x):\n",
    "        well_log_matrix = F.relu(self.fc0(x))\n",
    "        well_log_matrix = F.relu(self.fc1(well_log_matrix))\n",
    "        well_log_matrix = F.relu(self.fc2(well_log_matrix))\n",
    "        \n",
    "        RO_matrix = F.relu(self.fc0(x))\n",
    "        RO_matrix = F.relu(self.fc1(RO_matrix))\n",
    "        RO_matrix = F.relu(self.fc2(RO_matrix))\n",
    "        RO_matrix = F.relu(self.fc3(RO_matrix))\n",
    "        \n",
    "        Bias_matrix = F.relu(self.fc0(x))\n",
    "        Bias_matrix = F.relu(self.fc1(Bias_matrix))\n",
    "        Bias_matrix = F.relu(self.fc2(Bias_matrix))\n",
    "        Bias_matrix = F.relu(self.fc3(Bias_matrix))\n",
    "        \n",
    "        output = torch.matmul(torch.matmul(x, well_log_matrix.T),torch.pow(10.0,RO_matrix))+Bias_matrix\n",
    "        \n",
    "        return output  "
   ]
  },
  {
   "cell_type": "code",
   "execution_count": 22,
   "id": "c973b104-c837-499f-b5e7-d41732af360b",
   "metadata": {
    "tags": []
   },
   "outputs": [
    {
     "data": {
      "image/png": "[encoded data removed]",
      "text/plain": [
       "<Figure size 640x480 with 1 Axes>"
      ]
     },
     "metadata": {},
     "output_type": "display_data"
    }
   ],
   "source": [
    "model = PasseyNet_mlp(input_size=236)  # 输入大小为236\n",
    "optimizer = torch.optim.Adam(model.parameters(), lr=0.01)\n",
    "criterion = nn.MSELoss()\n",
    "loss_list = []\n",
    "\n",
    "for epoch in range(100):  \n",
    "    output = model(train)\n",
    "    y_pred = []\n",
    "    for i in range(len(output)):\n",
    "        y_pred.append(output[i])  \n",
    "    y_pred = torch.stack(y_pred).view(236)\n",
    "    loss = criterion(y_pred, label)\n",
    "    loss_list.append(loss.item())\n",
    "    \n",
    "    optimizer.zero_grad()   \n",
    "    loss.backward()           \n",
    "    optimizer.step()\n",
    "\n",
    "plt.plot(loss_list) \n",
    "plt.show()"
   ]
  },
  {
   "cell_type": "code",
   "execution_count": null,
   "id": "2d7ef138",
   "metadata": {},
   "outputs": [],
   "source": []
  },
  {
   "cell_type": "code",
   "execution_count": 23,
   "id": "c3e77ee8-a508-4393-a0e3-08cccefa8cbe",
   "metadata": {},
   "outputs": [
    {
     "data": {
      "text/plain": [
       "tensor([0., 0., 0., 0., 0., 0., 0., 0., 0., 0., 0., 0., 0., 0., 0., 0., 0., 0., 0., 0., 0., 0., 0., 0.,\n",
       "        0., 0., 0., 0., 0., 0., 0., 0., 0., 0., 0., 0., 0., 0., 0., 0., 0., 0., 0., 0., 0., 0., 0., 0.,\n",
       "        0., 0., 0., 0., 0., 0., 0., 0., 0., 0., 0., 0., 0., 0., 0., 0., 0., 0., 0., 0., 0., 0., 0., 0.,\n",
       "        0., 0., 0., 0., 0., 0., 0., 0., 0., 0., 0., 0., 0., 0., 0., 0., 0., 0., 0., 0., 0., 0., 0., 0.,\n",
       "        0., 0., 0., 0., 0., 0., 0., 0., 0., 0., 0., 0., 0., 0., 0., 0., 0., 0., 0., 0., 0., 0., 0., 0.,\n",
       "        0., 0., 0., 0., 0., 0., 0., 0., 0., 0., 0., 0., 0., 0., 0., 0., 0., 0., 0., 0., 0., 0., 0., 0.,\n",
       "        0., 0., 0., 0., 0., 0., 0., 0., 0., 0., 0., 0., 0., 0., 0., 0., 0., 0., 0., 0., 0., 0., 0., 0.,\n",
       "        0., 0., 0., 0., 0., 0., 0., 0., 0., 0., 0., 0., 0., 0., 0., 0., 0., 0., 0., 0., 0., 0., 0., 0.,\n",
       "        0., 0., 0., 0., 0., 0., 0., 0., 0., 0., 0., 0., 0., 0., 0., 0., 0., 0., 0., 0., 0., 0., 0., 0.,\n",
       "        0., 0., 0., 0., 0., 0., 0., 0., 0., 0., 0., 0., 0., 0., 0., 0., 0., 0., 0., 0.],\n",
       "       grad_fn=<ViewBackward>)"
      ]
     },
     "execution_count": 23,
     "metadata": {},
     "output_type": "execute_result"
    }
   ],
   "source": [
    "y_pred_df="
   ]
  }
 ],
 "metadata": {
  "kernelspec": {
   "display_name": "Python 3 (ipykernel)",
   "language": "python",
   "name": "python3"
  },
  "language_info": {
   "codemirror_mode": {
    "name": "ipython",
    "version": 3
   },
   "file_extension": ".py",
   "mimetype": "text/x-python",
   "name": "python",
   "nbconvert_exporter": "python",
   "pygments_lexer": "ipython3",
   "version": "3.9.16"
  }
 },
 "nbformat": 4,
 "nbformat_minor": 5
}
