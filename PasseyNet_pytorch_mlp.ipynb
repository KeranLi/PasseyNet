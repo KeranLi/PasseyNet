{
 "cells": [
  {
   "cell_type": "code",
   "execution_count": 96,
   "id": "7eb34e14-49ee-47c9-b10c-e5e55b4b32b4",
   "metadata": {
    "tags": []
   },
   "outputs": [],
   "source": [
    "import pandas as pd\n",
    "import numpy as np\n",
    "import torch\n",
    "import torch.nn as nn\n",
    "import torch.nn.functional as F\n",
    "import matplotlib.pyplot as plt"
   ]
  },
  {
   "cell_type": "code",
   "execution_count": 2,
   "id": "a0dab87b-45ee-47d9-aa5e-1f767de59f43",
   "metadata": {
    "tags": []
   },
   "outputs": [
    {
     "data": {
      "text/html": [
       "<div>\n",
       "<style scoped>\n",
       "    .dataframe tbody tr th:only-of-type {\n",
       "        vertical-align: middle;\n",
       "    }\n",
       "\n",
       "    .dataframe tbody tr th {\n",
       "        vertical-align: top;\n",
       "    }\n",
       "\n",
       "    .dataframe thead th {\n",
       "        text-align: right;\n",
       "    }\n",
       "</style>\n",
       "<table border=\"1\" class=\"dataframe\">\n",
       "  <thead>\n",
       "    <tr style=\"text-align: right;\">\n",
       "      <th></th>\n",
       "      <th>RT</th>\n",
       "      <th>DEN</th>\n",
       "      <th>AC</th>\n",
       "      <th>GR</th>\n",
       "      <th>TOC</th>\n",
       "    </tr>\n",
       "  </thead>\n",
       "  <tbody>\n",
       "    <tr>\n",
       "      <th>0</th>\n",
       "      <td>2.101</td>\n",
       "      <td>2.483</td>\n",
       "      <td>98.687</td>\n",
       "      <td>70.315</td>\n",
       "      <td>1.44</td>\n",
       "    </tr>\n",
       "    <tr>\n",
       "      <th>1</th>\n",
       "      <td>2.793</td>\n",
       "      <td>2.504</td>\n",
       "      <td>89.706</td>\n",
       "      <td>66.399</td>\n",
       "      <td>1.45</td>\n",
       "    </tr>\n",
       "    <tr>\n",
       "      <th>2</th>\n",
       "      <td>3.225</td>\n",
       "      <td>2.490</td>\n",
       "      <td>89.871</td>\n",
       "      <td>63.177</td>\n",
       "      <td>1.64</td>\n",
       "    </tr>\n",
       "    <tr>\n",
       "      <th>3</th>\n",
       "      <td>1.580</td>\n",
       "      <td>2.503</td>\n",
       "      <td>96.431</td>\n",
       "      <td>69.392</td>\n",
       "      <td>1.77</td>\n",
       "    </tr>\n",
       "    <tr>\n",
       "      <th>4</th>\n",
       "      <td>2.064</td>\n",
       "      <td>2.538</td>\n",
       "      <td>96.745</td>\n",
       "      <td>61.399</td>\n",
       "      <td>1.87</td>\n",
       "    </tr>\n",
       "  </tbody>\n",
       "</table>\n",
       "</div>"
      ],
      "text/plain": [
       "      RT    DEN      AC      GR   TOC\n",
       "0  2.101  2.483  98.687  70.315  1.44\n",
       "1  2.793  2.504  89.706  66.399  1.45\n",
       "2  3.225  2.490  89.871  63.177  1.64\n",
       "3  1.580  2.503  96.431  69.392  1.77\n",
       "4  2.064  2.538  96.745  61.399  1.87"
      ]
     },
     "execution_count": 2,
     "metadata": {},
     "output_type": "execute_result"
    }
   ],
   "source": [
    "#Loading training set into dataframe\n",
    "df = pd.read_excel('C:\\\\Users\\\\Administrator\\\\Desktop\\zheng_toc_train.xlsx')\n",
    "df.head()"
   ]
  },
  {
   "cell_type": "code",
   "execution_count": 3,
   "id": "7de3e52b-c81e-4158-85fd-22df0d1edb92",
   "metadata": {
    "tags": []
   },
   "outputs": [],
   "source": [
    "#Function to min-max normalize\n",
    "def normalize(df, cols):\n",
    "    \"\"\"\n",
    "    @param df pandas DataFrame\n",
    "    @param cols a list of columns to encode\n",
    "    @return a DataFrame with normalized specified features\n",
    "    \"\"\"\n",
    "    result = df.copy() # do not touch the original df\n",
    "    for feature_name in cols:\n",
    "        max_value = df[feature_name].max()\n",
    "        min_value = df[feature_name].min()\n",
    "        if max_value > min_value:\n",
    "            result[feature_name] = (df[feature_name] - min_value) / (max_value - min_value)\n",
    "    return result"
   ]
  },
  {
   "cell_type": "code",
   "execution_count": 4,
   "id": "cba56068-6779-492c-8e6d-433086081a50",
   "metadata": {
    "tags": []
   },
   "outputs": [
    {
     "data": {
      "text/html": [
       "<div>\n",
       "<style scoped>\n",
       "    .dataframe tbody tr th:only-of-type {\n",
       "        vertical-align: middle;\n",
       "    }\n",
       "\n",
       "    .dataframe tbody tr th {\n",
       "        vertical-align: top;\n",
       "    }\n",
       "\n",
       "    .dataframe thead th {\n",
       "        text-align: right;\n",
       "    }\n",
       "</style>\n",
       "<table border=\"1\" class=\"dataframe\">\n",
       "  <thead>\n",
       "    <tr style=\"text-align: right;\">\n",
       "      <th></th>\n",
       "      <th>RT</th>\n",
       "      <th>DEN</th>\n",
       "      <th>AC</th>\n",
       "      <th>GR</th>\n",
       "      <th>TOC</th>\n",
       "    </tr>\n",
       "  </thead>\n",
       "  <tbody>\n",
       "    <tr>\n",
       "      <th>0</th>\n",
       "      <td>0.001044</td>\n",
       "      <td>0.625610</td>\n",
       "      <td>0.525138</td>\n",
       "      <td>0.158498</td>\n",
       "      <td>0.048847</td>\n",
       "    </tr>\n",
       "    <tr>\n",
       "      <th>1</th>\n",
       "      <td>0.001510</td>\n",
       "      <td>0.651220</td>\n",
       "      <td>0.421908</td>\n",
       "      <td>0.147142</td>\n",
       "      <td>0.049186</td>\n",
       "    </tr>\n",
       "    <tr>\n",
       "      <th>2</th>\n",
       "      <td>0.001801</td>\n",
       "      <td>0.634146</td>\n",
       "      <td>0.423805</td>\n",
       "      <td>0.137798</td>\n",
       "      <td>0.055631</td>\n",
       "    </tr>\n",
       "    <tr>\n",
       "      <th>3</th>\n",
       "      <td>0.000694</td>\n",
       "      <td>0.650000</td>\n",
       "      <td>0.499207</td>\n",
       "      <td>0.155822</td>\n",
       "      <td>0.060041</td>\n",
       "    </tr>\n",
       "    <tr>\n",
       "      <th>4</th>\n",
       "      <td>0.001019</td>\n",
       "      <td>0.692683</td>\n",
       "      <td>0.502816</td>\n",
       "      <td>0.132642</td>\n",
       "      <td>0.063433</td>\n",
       "    </tr>\n",
       "    <tr>\n",
       "      <th>...</th>\n",
       "      <td>...</td>\n",
       "      <td>...</td>\n",
       "      <td>...</td>\n",
       "      <td>...</td>\n",
       "      <td>...</td>\n",
       "    </tr>\n",
       "    <tr>\n",
       "      <th>277</th>\n",
       "      <td>0.443530</td>\n",
       "      <td>0.207317</td>\n",
       "      <td>0.623678</td>\n",
       "      <td>0.899284</td>\n",
       "      <td>0.453867</td>\n",
       "    </tr>\n",
       "    <tr>\n",
       "      <th>278</th>\n",
       "      <td>0.196818</td>\n",
       "      <td>0.621951</td>\n",
       "      <td>0.424368</td>\n",
       "      <td>0.622655</td>\n",
       "      <td>0.484057</td>\n",
       "    </tr>\n",
       "    <tr>\n",
       "      <th>279</th>\n",
       "      <td>0.623690</td>\n",
       "      <td>0.060976</td>\n",
       "      <td>0.644943</td>\n",
       "      <td>0.998202</td>\n",
       "      <td>0.751696</td>\n",
       "    </tr>\n",
       "    <tr>\n",
       "      <th>280</th>\n",
       "      <td>0.048124</td>\n",
       "      <td>0.743902</td>\n",
       "      <td>0.312874</td>\n",
       "      <td>0.444828</td>\n",
       "      <td>0.160787</td>\n",
       "    </tr>\n",
       "    <tr>\n",
       "      <th>281</th>\n",
       "      <td>0.087050</td>\n",
       "      <td>0.926829</td>\n",
       "      <td>0.121954</td>\n",
       "      <td>0.213990</td>\n",
       "      <td>0.033921</td>\n",
       "    </tr>\n",
       "  </tbody>\n",
       "</table>\n",
       "<p>282 rows × 5 columns</p>\n",
       "</div>"
      ],
      "text/plain": [
       "           RT       DEN        AC        GR       TOC\n",
       "0    0.001044  0.625610  0.525138  0.158498  0.048847\n",
       "1    0.001510  0.651220  0.421908  0.147142  0.049186\n",
       "2    0.001801  0.634146  0.423805  0.137798  0.055631\n",
       "3    0.000694  0.650000  0.499207  0.155822  0.060041\n",
       "4    0.001019  0.692683  0.502816  0.132642  0.063433\n",
       "..        ...       ...       ...       ...       ...\n",
       "277  0.443530  0.207317  0.623678  0.899284  0.453867\n",
       "278  0.196818  0.621951  0.424368  0.622655  0.484057\n",
       "279  0.623690  0.060976  0.644943  0.998202  0.751696\n",
       "280  0.048124  0.743902  0.312874  0.444828  0.160787\n",
       "281  0.087050  0.926829  0.121954  0.213990  0.033921\n",
       "\n",
       "[282 rows x 5 columns]"
      ]
     },
     "execution_count": 4,
     "metadata": {},
     "output_type": "execute_result"
    }
   ],
   "source": [
    "#Normalizing dataset\n",
    "new_df = normalize(df,df.columns)\n",
    "new_df"
   ]
  },
  {
   "cell_type": "code",
   "execution_count": 5,
   "id": "e80eed98-f774-4632-9bfd-7da68d47d994",
   "metadata": {
    "tags": []
   },
   "outputs": [
    {
     "data": {
      "text/plain": [
       "((282,), (282, 4))"
      ]
     },
     "execution_count": 5,
     "metadata": {},
     "output_type": "execute_result"
    }
   ],
   "source": [
    "#This is an example, taking TOC as label to predict\n",
    "label = new_df['TOC']\n",
    "train = new_df.drop('TOC', axis=1) # we don't need it in this project\n",
    "label.shape, train.shape"
   ]
  },
  {
   "cell_type": "code",
   "execution_count": 6,
   "id": "2065e924-5158-48e4-88c2-177475cadae5",
   "metadata": {
    "tags": []
   },
   "outputs": [
    {
     "data": {
      "text/plain": [
       "False"
      ]
     },
     "execution_count": 6,
     "metadata": {},
     "output_type": "execute_result"
    }
   ],
   "source": [
    "label.isnull().values.any()\n",
    "train.isnull().values.any()"
   ]
  },
  {
   "cell_type": "code",
   "execution_count": 7,
   "id": "ff7d4656-eb84-49ff-8693-b471ddfd8ccc",
   "metadata": {
    "tags": []
   },
   "outputs": [],
   "source": [
    "#Test Nan and fill with mean\n",
    "for column in list(train.columns[train.isnull().sum() > 0]):\n",
    "    mean_val = train[column].mean()\n",
    "    train[column].fillna(mean_val, inplace=True)"
   ]
  },
  {
   "cell_type": "code",
   "execution_count": 8,
   "id": "b87bfd6b-6409-4897-9837-832a63abddcd",
   "metadata": {
    "tags": []
   },
   "outputs": [
    {
     "data": {
      "text/plain": [
       "6"
      ]
     },
     "execution_count": 8,
     "metadata": {},
     "output_type": "execute_result"
    }
   ],
   "source": [
    "from sklearn.model_selection import StratifiedKFold\n",
    "\n",
    "kfold = StratifiedKFold(n_splits=6,shuffle=True,random_state=42)\n",
    "kfold.get_n_splits(train)"
   ]
  },
  {
   "cell_type": "code",
   "execution_count": 9,
   "id": "5516439b-836c-4fc6-8764-e2e38ab75597",
   "metadata": {
    "tags": []
   },
   "outputs": [],
   "source": [
    "train = np.array(train)\n",
    "label = np.array(label)"
   ]
  },
  {
   "cell_type": "code",
   "execution_count": 10,
   "id": "6298a7e4-69f1-4b70-ab4d-95faf37ff799",
   "metadata": {
    "tags": []
   },
   "outputs": [],
   "source": [
    "train = torch.tensor(train, dtype=torch.float32)\n",
    "label = torch.tensor(label, dtype=torch.float32)"
   ]
  },
  {
   "cell_type": "code",
   "execution_count": 11,
   "id": "8f1dbdb8-33fa-4d6c-8852-ae9ac4047f51",
   "metadata": {
    "tags": []
   },
   "outputs": [
    {
     "data": {
      "text/plain": [
       "(torch.Size([282]), torch.Size([282, 4]))"
      ]
     },
     "execution_count": 11,
     "metadata": {},
     "output_type": "execute_result"
    }
   ],
   "source": [
    "label.shape, train.shape"
   ]
  },
  {
   "cell_type": "code",
   "execution_count": 12,
   "id": "37867f50-f9e6-4d88-aeba-bc82581b43dc",
   "metadata": {
    "tags": []
   },
   "outputs": [
    {
     "name": "stdout",
     "output_type": "stream",
     "text": [
      "Using cuda device\n"
     ]
    }
   ],
   "source": [
    "# Get cpu, gpu or mps device for training.\n",
    "device = (\n",
    "    \"cuda\"\n",
    "    if torch.cuda.is_available()\n",
    "    else \"mps\"\n",
    "    if torch.backends.mps.is_available()\n",
    "    else \"cpu\"\n",
    ")\n",
    "print(f\"Using {device} device\")"
   ]
  },
  {
   "cell_type": "code",
   "execution_count": 80,
   "id": "63b318e2-6a0c-40ed-ad92-db866ec53336",
   "metadata": {},
   "outputs": [],
   "source": [
    "class PasseyNet_mlp(nn.Module):\n",
    "    def __init__(self, input_size):\n",
    "        super(PasseyNet_mlp, self).__init__()\n",
    "        self.fc0 = nn.Linear(4, 282)  # 282X282\n",
    "        self.fc1 = nn.Linear(282, 64)  # 282X64\n",
    "        self.fc2 = nn.Linear(64, 4)  # 282X4\n",
    "        self.fc3 = nn.Linear(4, 1)  # 282X1\n",
    "        \n",
    "    def forward(self, x):\n",
    "        well_log_matrix = F.relu(self.fc0(x))\n",
    "        well_log_matrix = F.relu(self.fc1(well_log_matrix))\n",
    "        well_log_matrix = F.relu(self.fc2(well_log_matrix))\n",
    "        \n",
    "        RO_matrix = F.relu(self.fc0(x))\n",
    "        RO_matrix = F.relu(self.fc1(RO_matrix))\n",
    "        RO_matrix = F.relu(self.fc2(RO_matrix))\n",
    "        RO_matrix = F.relu(self.fc3(RO_matrix))\n",
    "        \n",
    "        Bias_matrix = F.relu(self.fc0(x))\n",
    "        Bias_matrix = F.relu(self.fc1(Bias_matrix))\n",
    "        Bias_matrix = F.relu(self.fc2(Bias_matrix))\n",
    "        Bias_matrix = F.relu(self.fc3(Bias_matrix))\n",
    "        \n",
    "        output =  torch.matmul(torch.matmul(x, well_log_matrix.T),torch.pow(10.0,RO_matrix))+Bias_matrix\n",
    "        \n",
    "        return output  "
   ]
  },
  {
   "cell_type": "code",
   "execution_count": 100,
   "id": "c973b104-c837-499f-b5e7-d41732af360b",
   "metadata": {
    "tags": []
   },
   "outputs": [
    {
     "data": {
      "image/png": "[encoded data removed]",
      "text/plain": [
       "<Figure size 640x480 with 1 Axes>"
      ]
     },
     "metadata": {},
     "output_type": "display_data"
    }
   ],
   "source": [
    "model = PasseyNet_mlp(input_size=282)  # 输入大小为282\n",
    "optimizer = torch.optim.Adam(model.parameters(), lr=0.01)\n",
    "criterion = nn.MSELoss()\n",
    "loss_list = []\n",
    "\n",
    "for epoch in range(100):  \n",
    "    output = model(train)\n",
    "    y_pred = []\n",
    "    for i in range(len(output)):\n",
    "        y_pred.append(output[i])  \n",
    "    y_pred = torch.stack(y_pred).view(282)\n",
    "    loss = criterion(y_pred, label)\n",
    "    loss_list.append(loss.item())\n",
    "    \n",
    "    optimizer.zero_grad()   \n",
    "    loss.backward()           \n",
    "    optimizer.step()\n",
    "\n",
    "plt.plot(loss_list) \n",
    "plt.show()"
   ]
  },
  {
   "cell_type": "code",
   "execution_count": null,
   "id": "c3e77ee8-a508-4393-a0e3-08cccefa8cbe",
   "metadata": {},
   "outputs": [],
   "source": []
  }
 ],
 "metadata": {
  "kernelspec": {
   "display_name": "Python 3 (ipykernel)",
   "language": "python",
   "name": "python3"
  },
  "language_info": {
   "codemirror_mode": {
    "name": "ipython",
    "version": 3
   },
   "file_extension": ".py",
   "mimetype": "text/x-python",
   "name": "python",
   "nbconvert_exporter": "python",
   "pygments_lexer": "ipython3",
   "version": "3.9.16"
  }
 },
 "nbformat": 4,
 "nbformat_minor": 5
}
